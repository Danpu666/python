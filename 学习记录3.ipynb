{
 "cells": [
  {
   "cell_type": "markdown",
   "metadata": {},
   "source": [
    "1、模块和包"
   ]
  },
  {
   "cell_type": "markdown",
   "metadata": {},
   "source": [
    "脚本文件.py可以当作一个模块，可以使用import关键词加载并执行它"
   ]
  },
  {
   "cell_type": "markdown",
   "metadata": {},
   "source": [
    "ex1.py 中所有的变量都被载入了当前环境中，不过要使\n",
    "用   ex1.变量名  的方法来查看或者修改这些变量\n",
    "用   ex1.函数名  调用模块里面的函数"
   ]
  },
  {
   "cell_type": "markdown",
   "metadata": {},
   "source": [
    "Python只会载入模块一次，已经载入的模块再次载入时，Python并不会真正执行载入操作，哪怕模块的内容已经改变\n",
    "需要重新导入模块时，可以使用reload强制重新载入它\n",
    "删除之前生成的文件：\n",
    "import os\n",
    "os.remove('ex1.py')"
   ]
  },
  {
   "cell_type": "markdown",
   "metadata": {},
   "source": [
    "%%writefile ex2.py\n",
    "\n",
    "PI = 3.1416\n",
    "\n",
    "def sum(lst):\n",
    "    \"\"\" Sum the values in a list\n",
    "    \"\"\"\n",
    "    tot = 0\n",
    "    for value in lst:\n",
    "        tot = tot + value\n",
    "    return tot\n",
    "\n",
    "def add(x, y):\n",
    "    \" Add two values.\"\n",
    "    a = x + y\n",
    "    return a\n",
    "\n",
    "def test():\n",
    "    w = [0,1,2,3]\n",
    "    assert(sum(w) == 6)\n",
    "    print ('test passed.')\n",
    "    \n",
    "if __name__ == '__main__':\n",
    "    test()"
   ]
  },
  {
   "cell_type": "code",
   "execution_count": 11,
   "metadata": {},
   "outputs": [
    {
     "name": "stdout",
     "output_type": "stream",
     "text": [
      "test passed.\n"
     ]
    }
   ],
   "source": [
    "run ex2.py"
   ]
  },
  {
   "cell_type": "code",
   "execution_count": 9,
   "metadata": {
    "collapsed": true
   },
   "outputs": [],
   "source": [
    "import ex2"
   ]
  },
  {
   "cell_type": "markdown",
   "metadata": {},
   "source": [
    "只有当文件被当作脚本执行的时候， __name__的值才会是 '__main__',所以执行 test（）\n",
    "当作模块导入时，test（）不被执行，但是可以使用其中的变量"
   ]
  },
  {
   "cell_type": "markdown",
   "metadata": {},
   "source": [
    "使用别名 import ex2 as e2"
   ]
  },
  {
   "cell_type": "markdown",
   "metadata": {},
   "source": [
    "可以直接从模块中导入变量：\n",
    "from ex2 import add, PI\n",
    "使用 * 导入所有变量：\n",
    "from ex2 import *"
   ]
  },
  {
   "cell_type": "markdown",
   "metadata": {},
   "source": [
    "假设我们有这样的一个文件夹：\n",
    "foo/\n",
    "__init__.py\n",
    "bar.py (defines func)\n",
    "baz.py (defines zap)\n",
    "这意味着 foo 是一个包，我们可以这样导入其中的内容：\n",
    "\n",
    "from foo.bar import func\n",
    "from foo.baz import zap\n",
    "bar 和 baz 都是 foo 文件夹下的 .py 文件。\n",
    "\n",
    "导入包要求：\n",
    "\n",
    "文件夹 foo 在Python的搜索路径中\n",
    "__init__.py 表示 foo 是一个包，它可以是个空文件。"
   ]
  },
  {
   "cell_type": "markdown",
   "metadata": {},
   "source": [
    "2、异常"
   ]
  },
  {
   "cell_type": "markdown",
   "metadata": {},
   "source": [
    "try & except 块\n",
    "一旦 try 块中的内容出现了异常，那么 try 块后面的内容会被忽略，Python会寻找 except 里面有没有对应的内容，如果找到，就执行对应的块，没有则抛出这个异常。"
   ]
  },
  {
   "cell_type": "code",
   "execution_count": null,
   "metadata": {
    "collapsed": true
   },
   "outputs": [],
   "source": [
    "import math\n",
    "\n",
    "while True:\n",
    "    try:\n",
    "        text = raw_input('> ')\n",
    "        if text[0] == 'q':\n",
    "            break\n",
    "        x = float(text)\n",
    "        y = math.log10(x)\n",
    "        print \"log10({0}) = {1}\".format(x, y)\n",
    "    except ValueError:\n",
    "        print \"the value must be greater than 0\""
   ]
  },
  {
   "cell_type": "markdown",
   "metadata": {},
   "source": [
    "捕捉所有异常：\n",
    "将except 的值改成 Exception 类，来捕获所有的异常。\n",
    "或者\n",
    "把 ZeroDivisionError 加入 except"
   ]
  },
  {
   "cell_type": "code",
   "execution_count": null,
   "metadata": {
    "collapsed": true
   },
   "outputs": [],
   "source": [
    "import math\n",
    "\n",
    "while True:\n",
    "    try:\n",
    "        text = raw_input('> ')\n",
    "        if text[0] == 'q':\n",
    "            break\n",
    "        x = float(text)\n",
    "        y = 1 / math.log10(x)\n",
    "        print \"1 / log10({0}) = {1}\".format(x, y)\n",
    "    except ValueError:\n",
    "        print \"the value must be greater than 0\"\n",
    "        #捕捉valueerror错误\n",
    "    except ZeroDivisionError:\n",
    "        print \"the value must not be 1\"\n",
    "        #捕捉 ZeroDivisionError\n",
    "    except Exception:\n",
    "        print \"unexpected error\""
   ]
  },
  {
   "cell_type": "markdown",
   "metadata": {},
   "source": [
    "将异常具体化"
   ]
  },
  {
   "cell_type": "code",
   "execution_count": null,
   "metadata": {
    "collapsed": true
   },
   "outputs": [],
   "source": [
    "import math\n",
    "\n",
    "while True:\n",
    "    try:\n",
    "        text = raw_input('> ')\n",
    "        if text[0] == 'q':\n",
    "            break\n",
    "        x = float(text)\n",
    "        y = 1 / math.log10(x)\n",
    "        print \"1 / log10({0}) = {1}\".format(x, y)\n",
    "    except ValueError as exc:\n",
    "        if exc.message == \"math domain error\":\n",
    "            print \"the value must be greater than 0\"\n",
    "        else:\n",
    "            print \"could not convert '%s' to float\" % text\n",
    "    except ZeroDivisionError:\n",
    "        print \"the value must not be 1\"\n",
    "    except Exception as exc:\n",
    "        print \"unexpected error:\", exc.message\n",
    "        #显示异常的说明"
   ]
  },
  {
   "cell_type": "markdown",
   "metadata": {},
   "source": [
    "不是所有的异常都是从 Exception 类派生出来的，以下代码可以捕捉所有信息。\n",
    "try:\n",
    "    pass\n",
    "except:\n",
    "    pass"
   ]
  },
  {
   "cell_type": "markdown",
   "metadata": {},
   "source": [
    "finally\n",
    "不管 try 块有没有异常， finally 块的内容总是会被执行\n",
    "在抛出异常前执行，如果异常被捕获了，在最后执行。"
   ]
  },
  {
   "cell_type": "markdown",
   "metadata": {},
   "source": [
    "3、警告"
   ]
  },
  {
   "cell_type": "markdown",
   "metadata": {},
   "source": [
    "出现了一些需要让用户知道的问题，但又不想停止程序，这时候我们可以使用警告"
   ]
  },
  {
   "cell_type": "code",
   "execution_count": 12,
   "metadata": {
    "collapsed": true
   },
   "outputs": [],
   "source": [
    "#导入警告模块\n",
    "import warnings"
   ]
  },
  {
   "cell_type": "markdown",
   "metadata": {},
   "source": [
    "在需要的地方，我们使用 warnings 中的 warn 函数：\n",
    "warn(msg, WarningType = UserWarning)"
   ]
  },
  {
   "cell_type": "markdown",
   "metadata": {},
   "source": [
    "想要忽略特定类型的警告，可以使用 warnings 的 filterwarnings 函数：\n",
    "filterwarnings(action, category)"
   ]
  },
  {
   "cell_type": "markdown",
   "metadata": {},
   "source": [
    "4、文件读写"
   ]
  },
  {
   "cell_type": "code",
   "execution_count": 34,
   "metadata": {},
   "outputs": [
    {
     "name": "stdout",
     "output_type": "stream",
     "text": [
      "hello world!\n"
     ]
    }
   ],
   "source": [
    "#使用 open 函数的写入模式来写文件：\n",
    "f = open('test.txt', 'w')\n",
    "f.write('hello world!')\n",
    "#使用 open 函数或者 file 函数来读文件，使用文件名的字符串作为输入参数：\n",
    "fl = open('test.txt')\n",
    "#使用 read 方法来读入文件中的所有内容：\n",
    "text = fl.read()\n",
    "print(text)"
   ]
  },
  {
   "cell_type": "code",
   "execution_count": 35,
   "metadata": {},
   "outputs": [
    {
     "name": "stdout",
     "output_type": "stream",
     "text": [
      "['hello world!']\n"
     ]
    }
   ],
   "source": [
    "#可以按照行读入内容，readlines 方法返回一个列表，每个元素代表文件中每一行的内容：\n",
    "f = open('test.txt')\n",
    "lines = f.readlines()\n",
    "print (lines)"
   ]
  },
  {
   "cell_type": "code",
   "execution_count": 39,
   "metadata": {
    "collapsed": true
   },
   "outputs": [],
   "source": [
    "#使用完文件之后，需要将文件关闭。\n",
    "f.close()"
   ]
  },
  {
   "cell_type": "code",
   "execution_count": null,
   "metadata": {
    "collapsed": true
   },
   "outputs": [],
   "source": [
    "#删除刚才创建的文件：\n",
    "import os\n",
    "os.remove('test.txt')"
   ]
  },
  {
   "cell_type": "markdown",
   "metadata": {},
   "source": [
    "写文件可以使用open函数的不同写入模式：\n",
    "w 模式，如果文件不存在会被创建，我们可以查看是否真的写入成功，如果文件已经存在， w 模式会覆盖之前写的所有内容。\n",
    "追加模式 a ，追加模式不会覆盖之前已经写入的内容，而是在之后继续写入\n",
    "读写模式 w+"
   ]
  },
  {
   "cell_type": "markdown",
   "metadata": {},
   "source": [
    "关闭文件可以保证内容已经被写入文件，而不关闭可能会出现没有写入的情况。"
   ]
  },
  {
   "cell_type": "code",
   "execution_count": null,
   "metadata": {
    "collapsed": true
   },
   "outputs": [],
   "source": [
    "#出现异常时，会跳出循环，没有完全写入\n",
    "f = open('newfile.txt','w')\n",
    "for i in range(3000):\n",
    "    x = 1.0 / (i - 1000)\n",
    "    f.write('hello world: ' + str(i) + '\\n')\n",
    "#可以使用 try/except/finally 块来关闭文件，这里 finally 确保关闭文件，所有的写入已经完成\n",
    "f = open('newfile.txt','w')\n",
    "try:\n",
    "    for i in range(3000):\n",
    "        x = 1.0 / (i - 1000)\n",
    "        f.write('hello world: ' + str(i) + '\\n')\n",
    "except Exception:\n",
    "    print (\"something bad happened\")\n",
    "finally:\n",
    "    f.close()\n",
    "#当 with 块的内容结束后，Python会自动调用它的close 方法，确保读写的安全\n",
    "with open('newfile.txt','w') as f:\n",
    "    for i in range(3000):\n",
    "        x = 1.0 / (i - 1000)\n",
    "        f.write('hello world: ' + str(i) + '\\n')"
   ]
  }
 ],
 "metadata": {
  "kernelspec": {
   "display_name": "Python 3",
   "language": "python",
   "name": "python3"
  },
  "language_info": {
   "codemirror_mode": {
    "name": "ipython",
    "version": 3
   },
   "file_extension": ".py",
   "mimetype": "text/x-python",
   "name": "python",
   "nbconvert_exporter": "python",
   "pygments_lexer": "ipython3",
   "version": "3.6.2"
  }
 },
 "nbformat": 4,
 "nbformat_minor": 2
}
