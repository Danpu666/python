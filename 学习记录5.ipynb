{
 "cells": [
  {
   "cell_type": "markdown",
   "metadata": {},
   "source": [
    "1、数组续"
   ]
  },
  {
   "cell_type": "code",
   "execution_count": 2,
   "metadata": {},
   "outputs": [
    {
     "data": {
      "text/plain": [
       "array([ 1.5,  1.8,  2.1])"
      ]
     },
     "execution_count": 2,
     "metadata": {},
     "output_type": "execute_result"
    }
   ],
   "source": [
    "#arange 返回的是数组\n",
    "#arange(start, stop=None, step=1, dtype=None)\n",
    "#产生一个在区间 [start, stop) 之间，以 step 为间隔的数组，如果只输入一个参数，则默认从 0 开始，并以这个值为结束\n",
    "#由于存在精度问题，使用浮点数可能出现问题\n",
    "from numpy import *\n",
    "arange(1.5, 2.1, 0.3)\n",
    "#注意其中包含了2.1"
   ]
  },
  {
   "cell_type": "code",
   "execution_count": null,
   "metadata": {
    "collapsed": true
   },
   "outputs": [],
   "source": [
    "#linspace\n",
    "#linspace(start, stop, N)\n",
    "#产生 N 个等距分布在 [start, stop]间的元素组成的数组，包括 start, stop。"
   ]
  },
  {
   "cell_type": "code",
   "execution_count": 4,
   "metadata": {},
   "outputs": [
    {
     "data": {
      "text/plain": [
       "array([  1.        ,   1.77827941,   3.16227766,   5.62341325,  10.        ])"
      ]
     },
     "execution_count": 4,
     "metadata": {},
     "output_type": "execute_result"
    }
   ],
   "source": [
    "#logspace\n",
    "#logspace(start, stop, N)\n",
    "#产生 N 个对数等距分布的数组，默认以10为底：\n",
    "logspace(0, 1, 5)"
   ]
  },
  {
   "cell_type": "code",
   "execution_count": null,
   "metadata": {
    "collapsed": true
   },
   "outputs": [],
   "source": [
    "#生成网格\n",
    "x_ticks = linspace(-1, 1, 5)\n",
    "y_ticks = linspace(-1, 1, 5)\n",
    "x, y = meshgrid(x_ticks, y_ticks)\n",
    "#或者\n",
    "x, y = ogrid[-1:1:.5, -1:1:.5]\n",
    "#Numpy 使用的是 start:end:step 的表示，结果不包括 end 的值\n",
    "#为了包含 end 的值，我们可以使用这样的技巧：\n",
    "x, y = ogrid[-1:1:5j, -1:1:5j]"
   ]
  },
  {
   "cell_type": "code",
   "execution_count": 6,
   "metadata": {},
   "outputs": [
    {
     "name": "stdout",
     "output_type": "stream",
     "text": [
      "[ 0.    0.25  0.5   0.75  1.  ]\n"
     ]
    },
    {
     "data": {
      "text/plain": [
       "array([[ 1. ],\n",
       "       [ 1.5],\n",
       "       [ 2. ],\n",
       "       [ 2.5],\n",
       "       [ 3. ]])"
      ]
     },
     "execution_count": 6,
     "metadata": {},
     "output_type": "execute_result"
    }
   ],
   "source": [
    "#使用 r_ / c_ 来产生行向量或者列向量\n",
    "print(r_[0:1:5j])\n",
    "#产生列向量\n",
    "c_[1:3:5j]"
   ]
  },
  {
   "cell_type": "code",
   "execution_count": 8,
   "metadata": {},
   "outputs": [
    {
     "data": {
      "text/plain": [
       "array([[ 5.,  5.,  5.],\n",
       "       [ 5.,  5.,  5.]])"
      ]
     },
     "execution_count": 8,
     "metadata": {},
     "output_type": "execute_result"
    }
   ],
   "source": [
    "#ones或者zeros\n",
    "#ones(shape, dtype=float64)\n",
    "#zeros(shape, dtype=float64)\n",
    "#产生一个制定形状的全 0 或全 1 的数组，还可以制定数组类型\n",
    "ones([2,3]) * 5"
   ]
  },
  {
   "cell_type": "code",
   "execution_count": 9,
   "metadata": {},
   "outputs": [
    {
     "name": "stdout",
     "output_type": "stream",
     "text": [
      "[  1.17518756e+180   2.44524720e-154]\n"
     ]
    },
    {
     "data": {
      "text/plain": [
       "array([ 5.,  5.])"
      ]
     },
     "execution_count": 9,
     "metadata": {},
     "output_type": "execute_result"
    }
   ],
   "source": [
    "#empty(shape, dtype=float64, order='C')\n",
    "#使用 empty 方法产生一个制定大小的数组（数组所指向的内存未被初始化，所以值随机），再用 fill 方法填充：\n",
    "a = empty(2)\n",
    "print(a)\n",
    "a.fill(5)\n",
    "a"
   ]
  },
  {
   "cell_type": "code",
   "execution_count": null,
   "metadata": {
    "collapsed": true
   },
   "outputs": [],
   "source": [
    "#empty_like, ones_like, zeros_like\n",
    "empty_like(a)\n",
    "ones_like(a)\n",
    "zeros_like(a)\n",
    "产生一个跟 a 大小一样，类型一样的对应数组"
   ]
  },
  {
   "cell_type": "code",
   "execution_count": null,
   "metadata": {
    "collapsed": true
   },
   "outputs": [],
   "source": [
    "#identity\n",
    "indentity(n, dtype=float64)\n",
    "产生一个 n 乘 n 的单位矩阵"
   ]
  },
  {
   "cell_type": "markdown",
   "metadata": {},
   "source": [
    "2、矩阵"
   ]
  },
  {
   "cell_type": "code",
   "execution_count": 10,
   "metadata": {},
   "outputs": [
    {
     "data": {
      "text/plain": [
       "matrix([[1, 2, 4],\n",
       "        [2, 5, 3],\n",
       "        [7, 8, 9]])"
      ]
     },
     "execution_count": 10,
     "metadata": {},
     "output_type": "execute_result"
    }
   ],
   "source": [
    "#将 2 维数组转化为矩阵\n",
    "a = array([[1,2,4],\n",
    "              [2,5,3], \n",
    "              [7,8,9]])\n",
    "A = mat(a)\n",
    "A"
   ]
  },
  {
   "cell_type": "code",
   "execution_count": 11,
   "metadata": {},
   "outputs": [
    {
     "data": {
      "text/plain": [
       "matrix([[1, 2, 4],\n",
       "        [2, 5, 3],\n",
       "        [7, 8, 9]])"
      ]
     },
     "execution_count": 11,
     "metadata": {},
     "output_type": "execute_result"
    }
   ],
   "source": [
    "#传入一个字符串来生成矩阵：\n",
    "A = mat('1,2,4;2,5,3;7,8,9')\n",
    "A"
   ]
  },
  {
   "cell_type": "code",
   "execution_count": 12,
   "metadata": {},
   "outputs": [
    {
     "data": {
      "text/plain": [
       "matrix([[ 1,  2, 10, 20],\n",
       "        [ 3,  4, 30, 40],\n",
       "        [10, 20,  1,  2],\n",
       "        [30, 40,  3,  4]])"
      ]
     },
     "execution_count": 12,
     "metadata": {},
     "output_type": "execute_result"
    }
   ],
   "source": [
    "#利用分块创造新的矩阵：\n",
    "a = array([[ 1, 2],\n",
    "              [ 3, 4]])\n",
    "b = array([[10,20], \n",
    "              [30,40]])\n",
    "bmat('a,b;b,a')"
   ]
  },
  {
   "cell_type": "code",
   "execution_count": 13,
   "metadata": {},
   "outputs": [
    {
     "data": {
      "text/plain": [
       "matrix([[-0.42857143, -0.28571429,  0.28571429],\n",
       "        [-0.06122449,  0.3877551 , -0.10204082],\n",
       "        [ 0.3877551 , -0.12244898, -0.02040816]])"
      ]
     },
     "execution_count": 13,
     "metadata": {},
     "output_type": "execute_result"
    }
   ],
   "source": [
    "#矩阵的逆\n",
    "A.I"
   ]
  },
  {
   "cell_type": "markdown",
   "metadata": {},
   "source": [
    "3、向量化函数"
   ]
  },
  {
   "cell_type": "code",
   "execution_count": 14,
   "metadata": {
    "collapsed": true
   },
   "outputs": [],
   "source": [
    "#自定义sinc函数，不能作用于函数\n",
    "import numpy as np\n",
    "def sinc(x):\n",
    "    if x == 0.0:\n",
    "        return 1.0\n",
    "    else:\n",
    "        w = np.pi * x\n",
    "        return np.sin(w) / w"
   ]
  },
  {
   "cell_type": "code",
   "execution_count": 15,
   "metadata": {},
   "outputs": [
    {
     "data": {
      "text/plain": [
       "array([  3.89817183e-17,  -3.89817183e-17,   3.89817183e-17])"
      ]
     },
     "execution_count": 15,
     "metadata": {},
     "output_type": "execute_result"
    }
   ],
   "source": [
    "#可以使用 numpy 的 vectorize 将函数 sinc 向量化，产生一个新的函数\n",
    "vsinc = np.vectorize(sinc)\n",
    "x = np.array([1,2,3])\n",
    "vsinc(x)"
   ]
  },
  {
   "cell_type": "markdown",
   "metadata": {},
   "source": [
    "4、非法值nan"
   ]
  },
  {
   "cell_type": "code",
   "execution_count": null,
   "metadata": {
    "collapsed": true
   },
   "outputs": [],
   "source": [
    "#只有 0/0 会得到 nan，非0值除以0会得到无穷\n",
    "#nan 与任何数进行比较都是 False\n",
    "#想要找出 nan 值需要使用 isnan"
   ]
  },
  {
   "cell_type": "markdown",
   "metadata": {},
   "source": [
    "5、操作符"
   ]
  },
  {
   "cell_type": "code",
   "execution_count": 18,
   "metadata": {},
   "outputs": [
    {
     "name": "stdout",
     "output_type": "stream",
     "text": [
      "[[ True  True False  True]\n",
      " [False  True  True  True]]\n",
      "False\n",
      "False\n"
     ]
    }
   ],
   "source": [
    "#=是逐元素比较的\n",
    "#如果我们在条件中要判断两个数组是否一样时，不能直接使用\n",
    "a = np.array([[1,2,3,4],\n",
    "              [2,3,4,5]])\n",
    "b = np.array([[1,2,5,4],\n",
    "              [1,3,4,5]])\n",
    "print(a == b)\n",
    "#可以使用\n",
    "print(all(a==b))\n",
    "#对于浮点数，由于存在精度问题，使用函数 allclose 会更好：\n",
    "print(allclose(a,b))"
   ]
  },
  {
   "cell_type": "markdown",
   "metadata": {},
   "source": [
    "6、ufunc对象"
   ]
  },
  {
   "cell_type": "code",
   "execution_count": 21,
   "metadata": {},
   "outputs": [
    {
     "name": "stdout",
     "output_type": "stream",
     "text": [
      "10\n"
     ]
    },
    {
     "data": {
      "text/plain": [
       "array([ 6, 15])"
      ]
     },
     "execution_count": 21,
     "metadata": {},
     "output_type": "execute_result"
    }
   ],
   "source": [
    "#针对ufunc对象有以下方法：\n",
    "#reduce 方法  op.reduce(a)\n",
    "#将op沿着某个轴应用，使得数组 a 的维数降低一维\n",
    "a = np.array([1,2,3,4])\n",
    "print(add.reduce(a))\n",
    "#默认第一维进行运算\n",
    "#但可以指定维度\n",
    "a = np.array([[1,2,3],[4,5,6]])\n",
    "np.add.reduce(a, 1)"
   ]
  },
  {
   "cell_type": "code",
   "execution_count": 22,
   "metadata": {},
   "outputs": [
    {
     "data": {
      "text/plain": [
       "array([ 1,  3,  6, 10], dtype=int32)"
      ]
     },
     "execution_count": 22,
     "metadata": {},
     "output_type": "execute_result"
    }
   ],
   "source": [
    "#accumulate 方法 op.accumulate(a)\n",
    "#accumulate 可以看成保存 reduce 每一步的结果所形成的数组。\n",
    "a = np.array([1,2,3,4])\n",
    "np.add.accumulate(a)"
   ]
  },
  {
   "cell_type": "code",
   "execution_count": 23,
   "metadata": {},
   "outputs": [
    {
     "name": "stdout",
     "output_type": "stream",
     "text": [
      "[[1 2 3]\n",
      " [2 3 4]]\n",
      "[[1 2]\n",
      " [2 3]\n",
      " [3 4]]\n"
     ]
    }
   ],
   "source": [
    "#outer 方法 op.outer(a, b)\n",
    "#对于 a 中每个元素，将 op 运用到它和 b 的每一个元素上所得到的结果：\n",
    "a = np.array([0,1])\n",
    "b = np.array([1,2,3])\n",
    "print(np.add.outer(a, b))\n",
    "#注意有顺序的区别：\n",
    "print(np.add.outer(b, a))"
   ]
  },
  {
   "cell_type": "markdown",
   "metadata": {},
   "source": [
    "7、choose函数实现条件筛选"
   ]
  },
  {
   "cell_type": "markdown",
   "metadata": {},
   "source": [
    "8、数组广播机制"
   ]
  },
  {
   "cell_type": "code",
   "execution_count": 25,
   "metadata": {},
   "outputs": [
    {
     "data": {
      "text/plain": [
       "array([[ 0,  1,  2],\n",
       "       [10, 11, 12],\n",
       "       [20, 21, 22],\n",
       "       [30, 31, 32]])"
      ]
     },
     "execution_count": 25,
     "metadata": {},
     "output_type": "execute_result"
    }
   ],
   "source": [
    "a = np.array([[ 0, 0, 0],\n",
    "              [10,10,10],\n",
    "              [20,20,20],\n",
    "              [30,30,30]])\n",
    "b = np.array([0,1,2])\n",
    "a + b\n",
    "#将 b 扩展得到相同的形状"
   ]
  },
  {
   "cell_type": "code",
   "execution_count": 26,
   "metadata": {},
   "outputs": [
    {
     "data": {
      "text/plain": [
       "array([[ 0,  1,  2],\n",
       "       [10, 11, 12],\n",
       "       [20, 21, 22],\n",
       "       [30, 31, 32]])"
      ]
     },
     "execution_count": 26,
     "metadata": {},
     "output_type": "execute_result"
    }
   ],
   "source": [
    "#对于 Numpy 来说，维度匹配当且仅当：维度相同、有一个的维度是1\n",
    "#匹配会从最后一维开始进行，直到某一个的维度全部匹配为止\n",
    "#即是，从最后一维开始匹配，然后遇1则变为较大的那个维数\n",
    "a = np.array([0,10,20,30])\n",
    "a.shape = 4,1\n",
    "a + b"
   ]
  },
  {
   "cell_type": "markdown",
   "metadata": {},
   "source": [
    "9、数组读写"
   ]
  },
  {
   "cell_type": "code",
   "execution_count": null,
   "metadata": {
    "collapsed": true
   },
   "outputs": [],
   "source": [
    "#文本形式\n",
    "loadtxt 读数组\n",
    "savetxt 写数组\n",
    "\n",
    "#Numpy 二进制格式\n",
    "数组可以储存成二进制格式，单个的数组保存为 .npy 格式，多个数组保存为多个.npy文件组成的 .npz 格式，每个 .npy 文件包含一个数组。\n",
    "与文本格式不同，二进制格式保存了数组的 shape, dtype 信息，以便完全重构出保存的数组。\n",
    "\n",
    "#保存的方法：\n",
    "save(file, arr) 保存单个数组，.npy 格式\n",
    "savez(file, *args, **kwds) 保存多个数组，无压缩的 .npz 格式\n",
    "savez_compressed(file, *args, **kwds) 保存多个数组，有压缩的 .npz 格式\n",
    "\n",
    "#读取的方法：\n",
    "load(file, mmap_mode=None) 对于 .npy，返回保存的数组，对于 .npz，返回一个名称-数组对组成的字典。"
   ]
  },
  {
   "cell_type": "markdown",
   "metadata": {},
   "source": [
    "10、结构化数组"
   ]
  },
  {
   "cell_type": "code",
   "execution_count": 27,
   "metadata": {},
   "outputs": [
    {
     "data": {
      "text/plain": [
       "array([( 1.,  1.), ( 1.,  2.), ( 2.,  1.), ( 1.,  3.)],\n",
       "      dtype=[('mass', '<f4'), ('vol', '<f4')])"
      ]
     },
     "execution_count": 27,
     "metadata": {},
     "output_type": "execute_result"
    }
   ],
   "source": [
    "#自定义结构类型，然后初始化结构化数组\n",
    "my_dtype = np.dtype([('mass', 'float32'), ('vol', 'float32')])\n",
    "my_data = np.array([(1,1), (1,2), (2,1), (1,3)], my_dtype)\n",
    "my_data"
   ]
  },
  {
   "cell_type": "code",
   "execution_count": null,
   "metadata": {
    "collapsed": true
   },
   "outputs": [],
   "source": [
    "#嵌套类型\n",
    "particle_dtype = np.dtype([('position', [('x', 'float'), \n",
    "                                         ('y', 'float')]),\n",
    "                           ('mass', 'float')\n",
    "                          ])"
   ]
  },
  {
   "cell_type": "markdown",
   "metadata": {},
   "source": [
    "11、记录数组"
   ]
  },
  {
   "cell_type": "code",
   "execution_count": 29,
   "metadata": {},
   "outputs": [
    {
     "data": {
      "text/plain": [
       "rec.array([( 1.,  1.), ( 1.,  2.), ( 2.,  1.), ( 1.,  3.)], \n",
       "          dtype=[('mass', '<f8'), ('velocity', '<f8')])"
      ]
     },
     "execution_count": 29,
     "metadata": {},
     "output_type": "execute_result"
    }
   ],
   "source": [
    "#记录数组（record array）与结构数组类似\n",
    "#记录数组的运行效率要比结构化数组要慢一些\n",
    "partical_dtype = np.dtype([('mass', 'float'), \n",
    "                           ('velocity', 'float')])\n",
    "#生成记录数组要使用 numpy.rec 里的 fromrecords 方法\n",
    "from numpy import rec\n",
    "particals_rec = rec.fromrecords([(1,1), (1,2), (2,1), (1,3)],dtype = partical_dtype)\n",
    "particals_rec"
   ]
  }
 ],
 "metadata": {
  "kernelspec": {
   "display_name": "Python 3",
   "language": "python",
   "name": "python3"
  },
  "language_info": {
   "codemirror_mode": {
    "name": "ipython",
    "version": 3
   },
   "file_extension": ".py",
   "mimetype": "text/x-python",
   "name": "python",
   "nbconvert_exporter": "python",
   "pygments_lexer": "ipython3",
   "version": "3.6.2"
  }
 },
 "nbformat": 4,
 "nbformat_minor": 2
}
