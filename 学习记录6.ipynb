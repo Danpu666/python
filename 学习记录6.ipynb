{
 "cells": [
  {
   "cell_type": "markdown",
   "metadata": {},
   "source": [
    "1、插值"
   ]
  },
  {
   "cell_type": "code",
   "execution_count": 4,
   "metadata": {
    "collapsed": true
   },
   "outputs": [],
   "source": [
    "import numpy as np\n",
    "import matplotlib.pyplot as plt\n",
    "%matplotlib inline"
   ]
  },
  {
   "cell_type": "code",
   "execution_count": null,
   "metadata": {
    "collapsed": true
   },
   "outputs": [],
   "source": [
    "from scipy.interpolate import interp1d\n",
    "#导入一维插值函数 interp1d：interp1d(x, y)\n",
    "#返回值可以像函数一样接受输入，并返回插值的结果\n",
    "#默认情况下，输入值要在插值允许的范围内，否则插值会报错"
   ]
  },
  {
   "cell_type": "code",
   "execution_count": null,
   "metadata": {
    "collapsed": true
   },
   "outputs": [],
   "source": [
    "interp1d 默认的插值方法是线性\n",
    "可以通过 kind 参数来调节使用的插值方法，来得到不同的结果：\n",
    "\n",
    "nearest 最近邻插值\n",
    "zero 0阶插值\n",
    "linear 线性插值\n",
    "quadratic 二次插值\n",
    "cubic 三次插值\n",
    "4,5,6,7 更高阶插值"
   ]
  },
  {
   "cell_type": "code",
   "execution_count": null,
   "metadata": {
    "collapsed": true
   },
   "outputs": [],
   "source": [
    "径向基函数\n",
    "可以利用径向基函数进行插值\n",
    "from scipy.interpolate.rbf import Rbf\n",
    "\n",
    "#使用 multiquadric 核的\n",
    "cp_rbf = Rbf(data['TK'], data['Cp'], function = \"multiquadric\")"
   ]
  },
  {
   "cell_type": "markdown",
   "metadata": {},
   "source": [
    "2、拟合"
   ]
  },
  {
   "cell_type": "code",
   "execution_count": 34,
   "metadata": {
    "collapsed": true
   },
   "outputs": [],
   "source": [
    "#导入基础包\n",
    "import numpy as np\n",
    "import matplotlib as mpl\n",
    "import matplotlib.pyplot as plt\n",
    "\n",
    "#导入多项式拟合工具\n",
    "from numpy import polyfit, poly1d\n",
    "\n",
    "#多项式拟合\n",
    "coeff = polyfit(x, noise_y, 1)\n",
    "#可以用 poly1d 生成一个以传入的 coeff 为参数的多项式函数\n",
    "f = poly1d(coeff)"
   ]
  },
  {
   "cell_type": "code",
   "execution_count": 39,
   "metadata": {},
   "outputs": [
    {
     "data": {
      "text/plain": [
       "(array([ 0.53380657, -0.12464739]),\n",
       " 11.349587659494661,\n",
       " 2,\n",
       " array([ 30.23732043,   4.82146667]))"
      ]
     },
     "execution_count": 39,
     "metadata": {},
     "output_type": "execute_result"
    }
   ],
   "source": [
    "#最小二乘法\n",
    "#导入相关的模块\n",
    "from scipy.linalg import lstsq\n",
    "from scipy.stats import linregress\n",
    "\n",
    "x = np.linspace(0,5,100)\n",
    "y = 0.5 * x + np.random.randn(x.shape[-1]) * 0.35\n",
    "#构造X\n",
    "X = np.hstack((x[:,np.newaxis], np.ones((x.shape[-1],1))))\n",
    "lstsq(X, y)"
   ]
  },
  {
   "cell_type": "code",
   "execution_count": 40,
   "metadata": {},
   "outputs": [
    {
     "data": {
      "text/plain": [
       "LinregressResult(slope=0.5338065748593378, intercept=-0.12464738960480148, rvalue=0.91770195690722545, pvalue=4.4881534478724263e-41, stderr=0.023342885136621371)"
      ]
     },
     "execution_count": 40,
     "metadata": {},
     "output_type": "execute_result"
    }
   ],
   "source": [
    "#对于上面的问题，还可以使用线性回归进行求解 Scipy.stats.linregress 线性回归\n",
    "linregress(x, y)"
   ]
  },
  {
   "cell_type": "code",
   "execution_count": 44,
   "metadata": {},
   "outputs": [
    {
     "name": "stdout",
     "output_type": "stream",
     "text": [
      "(array([ 3.08997882,  1.96707101,  1.26614267,  0.74186276]), 1)\n"
     ]
    },
    {
     "data": {
      "text/plain": [
       "(array([ 3.0899788 ,  1.96707102,  1.26614267,  0.74186277]),\n",
       " array([[ 0.13419887, -0.04298371,  0.0154261 , -0.0483802 ],\n",
       "        [-0.04298371,  0.01400406, -0.00480545,  0.01507115],\n",
       "        [ 0.0154261 , -0.00480545,  0.00220936, -0.00692905],\n",
       "        [-0.0483802 ,  0.01507115, -0.00692905,  0.0219102 ]]))"
      ]
     },
     "execution_count": 44,
     "metadata": {},
     "output_type": "execute_result"
    }
   ],
   "source": [
    "#更高级别的拟合\n",
    "#注意这种拟合是传入了函数的，只是参数未知\n",
    "from scipy.optimize import leastsq\n",
    "\n",
    "#先定义这个非线性函数\n",
    "def function(x, a , b, f, phi):\n",
    "    \"\"\"a function of x with four parameters\"\"\"\n",
    "    result = a * np.exp(-b * np.sin(f * x + phi))\n",
    "    return  result\n",
    "\n",
    "x = np.linspace(0, 2 * np.pi, 50)\n",
    "actual_parameters = [3, 2, 1.25, np.pi / 4]\n",
    "y = function(x, *actual_parameters)\n",
    "\n",
    "#加入噪声\n",
    "from scipy.stats import norm\n",
    "y_noisy = y + 0.8 * norm.rvs(size=len(x))\n",
    "\n",
    "########第一种方法\n",
    "#定义误差函数，将要优化的参数放在前面\n",
    "def f_err(p, y, x):\n",
    "    return y - function(x, *p)\n",
    "\n",
    "print(leastsq(f_err, [1, 1, 1, 1], args=(y_noisy, x)))\n",
    "#第二个参数为初始值\n",
    "\n",
    "########第二种方法\n",
    "from scipy.optimize import curve_fit\n",
    "\n",
    "#不需要定义误差函数，直接传入 function 作为参数\n",
    "curve_fit(function, x, y_noisy)\n",
    "#第二个返回值为各个参数的协方差矩阵"
   ]
  },
  {
   "cell_type": "markdown",
   "metadata": {},
   "source": [
    "3、概率统计方法"
   ]
  },
  {
   "cell_type": "code",
   "execution_count": 17,
   "metadata": {
    "collapsed": true
   },
   "outputs": [],
   "source": [
    "#导入 Scipy 的统计模块：\n",
    "import scipy.stats as st"
   ]
  },
  {
   "cell_type": "code",
   "execution_count": 18,
   "metadata": {
    "collapsed": true
   },
   "outputs": [],
   "source": [
    "#连续分布：\n",
    "\n",
    "#导入正态分布：\n",
    "from scipy.stats import norm\n",
    "\n",
    "#它包含四类常用的函数：\n",
    "#norm.cdf 返回对应的累计分布函数值\n",
    "#norm.pdf 返回对应的概率密度函数值\n",
    "#norm.rvs 产生指定参数的随机变量\n",
    "#norm.fit 返回给定数据下，各参数的最大似然估计（MLE）值\n",
    "\n",
    "其他分布类似\n",
    "from scipy.stats import lognorm, t, dweibull"
   ]
  },
  {
   "cell_type": "code",
   "execution_count": null,
   "metadata": {
    "collapsed": true
   },
   "outputs": [],
   "source": [
    "#离散分布\n",
    "from scipy.stats import binom, poisson, randint"
   ]
  },
  {
   "cell_type": "code",
   "execution_count": 31,
   "metadata": {},
   "outputs": [
    {
     "data": {
      "text/plain": [
       "array([4, 1])"
      ]
     },
     "execution_count": 31,
     "metadata": {},
     "output_type": "execute_result"
    }
   ],
   "source": [
    "#自定义离散分布\n",
    "\n",
    "#导入要用的函数\n",
    "from scipy.stats import rv_discrete\n",
    "#一个不均匀的骰子对应的离散值及其概率\n",
    "xk = [1, 2, 3, 4, 5, 6]\n",
    "pk = [.3, .35, .25, .05, .025, .025]\n",
    "#定义离散分布\n",
    "loaded = rv_discrete(values=(xk, pk))\n",
    "#此时， loaded 可以当作一个离散分布的模块来使用\n",
    "#产生两个服从该分布的随机变量：\n",
    "loaded.rvs(size=2)"
   ]
  },
  {
   "cell_type": "code",
   "execution_count": 19,
   "metadata": {},
   "outputs": [
    {
     "name": "stdout",
     "output_type": "stream",
     "text": [
      "95.45% of the values lie between -2 and 2\n"
     ]
    }
   ],
   "source": [
    "#导入积分函数\n",
    "from scipy.integrate import trapz\n",
    "\n",
    "x1 = np.linspace(-2,2,108)\n",
    "p = trapz(st.norm.pdf(x1), x1) \n",
    "print('{:.2%} of the values lie between -2 and 2'.format(p))"
   ]
  },
  {
   "cell_type": "code",
   "execution_count": null,
   "metadata": {
    "collapsed": true
   },
   "outputs": [],
   "source": [
    "#两种一样\n",
    "p = plot(x, norm.pdf(x, loc=0, scale=1))\n",
    "p = plot(x, norm(loc=0, scale=1).pdf(x))"
   ]
  },
  {
   "cell_type": "code",
   "execution_count": null,
   "metadata": {
    "collapsed": true
   },
   "outputs": [],
   "source": [
    "#假设检验\n",
    "from scipy.stats import norm\n",
    "from scipy.stats import ttest_ind, ttest_rel, ttest_1samp\n",
    "from scipy.stats import t\n",
    "\n",
    "#独立双样本 t 检验\n",
    "ttest_ind(n1_samples, n2_samples)\n",
    "#配对样本 t 检验\n",
    "ttest_rel(n0, n1)\n",
    "？？？传入的参数到底是什么"
   ]
  },
  {
   "cell_type": "markdown",
   "metadata": {},
   "source": [
    "4、最值"
   ]
  },
  {
   "cell_type": "code",
   "execution_count": null,
   "metadata": {
    "collapsed": true
   },
   "outputs": [],
   "source": [
    "from scipy.optimize import minimize\n",
    "\n",
    "result = minimize(neg_dist, 40, args=(1,))\n",
    "#minimize 接受三个参数：第一个是要优化的函数，第二个是初始猜测值，第三个则是优化函数的附加参数\n",
    "#默认 minimize 将优化函数的第一个参数作为优化变量，所以第三个参数输入的附加参数从优化函数的第二个参数开始。"
   ]
  },
  {
   "cell_type": "code",
   "execution_count": null,
   "metadata": {
    "collapsed": true
   },
   "outputs": [],
   "source": [
    "#rosenbroke函数\n",
    "from scipy.optimize import rosen\n",
    "\n",
    "x, y = meshgrid(np.linspace(-2,2,25), np.linspace(-0.5,3.5,25))\n",
    "z = rosen([x,y])"
   ]
  },
  {
   "cell_type": "code",
   "execution_count": null,
   "metadata": {
    "collapsed": true
   },
   "outputs": [],
   "source": [
    "minimize 函数默认根据问题是否有界或者有约束，使用 'BFGS', 'L-BFGS-B', 'SLSQP' 中的一种\n",
    "\n",
    "minimize(rosen, x0, method=\"nelder-mead\", callback = xi.append)\n",
    "#利用 callback 参数查看迭代的历史"
   ]
  },
  {
   "cell_type": "markdown",
   "metadata": {},
   "source": [
    "5、积分"
   ]
  },
  {
   "cell_type": "code",
   "execution_count": 12,
   "metadata": {},
   "outputs": [
    {
     "name": "stdout",
     "output_type": "stream",
     "text": [
      "sqrt(x**2 + y**2)\n"
     ]
    },
    {
     "data": {
      "image/png": "[encoded data removed]",
      "text/latex": [
       "$$\\sqrt{y^{2} + 9}$$"
      ],
      "text/plain": [
       "   ________\n",
       "  ╱  2     \n",
       "╲╱  y  + 9 "
      ]
     },
     "execution_count": 12,
     "metadata": {},
     "output_type": "execute_result"
    }
   ],
   "source": [
    "#符号运算\n",
    "from sympy import init_printing\n",
    "init_printing()\n",
    "from sympy import symbols,integrate\n",
    "import sympy\n",
    "\n",
    "#符号运算\n",
    "x, y = symbols('x y')\n",
    "z=sympy.sqrt(x ** 2 + y ** 2)\n",
    "print(z)\n",
    "#赋值\n",
    "z.subs(x, 3)"
   ]
  },
  {
   "cell_type": "code",
   "execution_count": 13,
   "metadata": {},
   "outputs": [
    {
     "data": {
      "image/png": "[encoded data removed]",
      "text/latex": [
       "$$\\sin^{2}{\\left (\\theta \\right )}$$"
      ],
      "text/plain": [
       "   2   \n",
       "sin (θ)"
      ]
     },
     "execution_count": 13,
     "metadata": {},
     "output_type": "execute_result"
    }
   ],
   "source": [
    "#导入现成的符号\n",
    "from sympy.abc import theta\n",
    "y = sympy.sin(theta) ** 2\n",
    "y"
   ]
  },
  {
   "cell_type": "code",
   "execution_count": 18,
   "metadata": {},
   "outputs": [
    {
     "data": {
      "image/png": "[encoded data removed]",
      "text/latex": [
       "$$\\int \\sin^{2}{\\left (\\theta \\right )}\\, d\\theta$$"
      ],
      "text/plain": [
       "⌠           \n",
       "⎮    2      \n",
       "⎮ sin (θ) dθ\n",
       "⌡           "
      ]
     },
     "execution_count": 18,
     "metadata": {},
     "output_type": "execute_result"
    }
   ],
   "source": [
    "#产生不定积分对象\n",
    "Y_indef = sympy.Integral(y)\n",
    "Y_indef"
   ]
  },
  {
   "cell_type": "code",
   "execution_count": 17,
   "metadata": {},
   "outputs": [
    {
     "data": {
      "image/png": "[encoded data removed]",
      "text/latex": [
       "$$\\int_{0}^{\\pi} \\sin^{2}{\\left (\\theta \\right )}\\, d\\theta$$"
      ],
      "text/plain": [
       "π           \n",
       "⌠           \n",
       "⎮    2      \n",
       "⎮ sin (θ) dθ\n",
       "⌡           \n",
       "0           "
      ]
     },
     "execution_count": 17,
     "metadata": {},
     "output_type": "execute_result"
    }
   ],
   "source": [
    "#定积分\n",
    "Y_def = sympy.Integral(y, (theta, 0, sympy.pi))\n",
    "Y_def"
   ]
  },
  {
   "cell_type": "code",
   "execution_count": 21,
   "metadata": {
    "collapsed": true
   },
   "outputs": [],
   "source": [
    "#将其向量化\n",
    "Y_raw = lambda x: integrate(y, (theta, 0, x))\n",
    "Y = np.vectorize(Y_raw)"
   ]
  },
  {
   "cell_type": "code",
   "execution_count": 9,
   "metadata": {},
   "outputs": [
    {
     "name": "stdout",
     "output_type": "stream",
     "text": [
      "theta/2 - sin(theta)*cos(theta)/2\n",
      "pi/2\n",
      "1.57079632679490\n"
     ]
    },
    {
     "data": {
      "text/plain": [
       "1.57079632679490"
      ]
     },
     "execution_count": 9,
     "metadata": {},
     "output_type": "execute_result"
    }
   ],
   "source": [
    "#不定积分\n",
    "Y = integrate(y)\n",
    "print(Y)\n",
    "##################定积分\n",
    "print(integrate(y, (theta, 0, sympy.pi)))\n",
    "#如果想查看数值\n",
    "print(integrate(y, (theta, 0, sympy.pi)).evalf())\n",
    "import numpy as np\n",
    "integrate(y, (theta, 0, np.pi))"
   ]
  },
  {
   "cell_type": "code",
   "execution_count": 23,
   "metadata": {},
   "outputs": [
    {
     "data": {
      "image/png": "[encoded data removed]",
      "text/latex": [
       "$$1.2847429723410948$$"
      ],
      "text/plain": [
       "1.2847429723410948"
      ]
     },
     "execution_count": 23,
     "metadata": {},
     "output_type": "execute_result"
    }
   ],
   "source": [
    "###########quad函数积分\n",
    "\n",
    "#导入贝塞尔函数\n",
    "from scipy.special import jv\n",
    "def f(x):\n",
    "    return jv(2.5, x)\n",
    "\n",
    "from scipy.integrate import quad\n",
    "interval = [0, 6.5]\n",
    "value, max_err = quad(f, *interval)\n",
    "value"
   ]
  },
  {
   "cell_type": "code",
   "execution_count": null,
   "metadata": {
    "collapsed": true
   },
   "outputs": [],
   "source": [
    "#积分到无穷\n",
    "from numpy import inf\n",
    "interval = [0., inf]"
   ]
  },
  {
   "cell_type": "code",
   "execution_count": null,
   "metadata": {
    "collapsed": true
   },
   "outputs": [],
   "source": [
    "#双重积分\n",
    "#一种方式是调用两次 quad 函数，不过这里 quad 的返回值不能向量化，所以使用了修饰符 vectorize 将其向量化\n",
    "def h(x, t, n):\n",
    "    \"\"\"core function, takes x, t, n\"\"\"\n",
    "    return np.exp(-x * t) / (t ** n)\n",
    "\n",
    "from numpy import vectorize\n",
    "@vectorize\n",
    "def int_h_dx(t, n):\n",
    "    \"\"\"Time integrand of h(x).\"\"\"\n",
    "    return quad(h, 0, np.inf, args=(t, n))[0]\n",
    "\n",
    "@vectorize\n",
    "def I_n(n):\n",
    "    return quad(int_h_dx, 1, np.inf, args=(n))\n",
    "\n",
    "#直接调用 dblquad 函数，并将积分参数传入，传入方式有多种，后传入的先进行积分：\n",
    "from scipy.integrate import dblquad\n",
    "@vectorize\n",
    "def I(n):\n",
    "    \"\"\"Same as I_n, but using the built-in dblquad\"\"\"\n",
    "    x_lower = 0\n",
    "    x_upper = np.inf\n",
    "    return dblquad(h,\n",
    "                   lambda t_lower: 1, lambda t_upper: np.inf,\n",
    "                   x_lower, x_upper, args=(n,))"
   ]
  },
  {
   "cell_type": "code",
   "execution_count": null,
   "metadata": {
    "collapsed": true
   },
   "outputs": [],
   "source": [
    "##############trapz 方法 和 simps 方法\n",
    "from scipy.integrate import trapz, simps\n",
    "x_s = np.linspace(0, np.pi, 5)\n",
    "y_s = np.sin(x_s)\n",
    "result_s = trapz(y_s, x_s)\n",
    "result_s_s = simps(y_s, x_s)"
   ]
  },
  {
   "cell_type": "code",
   "execution_count": 26,
   "metadata": {},
   "outputs": [
    {
     "data": {
      "image/png": "[encoded data removed]",
      "text/plain": [
       "<matplotlib.figure.Figure at 0x209f1066358>"
      ]
     },
     "metadata": {},
     "output_type": "display_data"
    }
   ],
   "source": [
    "##############使用 ufunc 进行积分\n",
    "#??????很奇怪\n",
    "x = np.linspace(0, np.pi, 100)\n",
    "y = np.sin(x)\n",
    "result_np = np.add.accumulate(y) * (x[1] - x[0]) - (x[1] - x[0]) / 2\n",
    "%matplotlib inline\n",
    "import matplotlib.pyplot as plt\n",
    "p = plt.plot(x, result_np)"
   ]
  },
  {
   "cell_type": "markdown",
   "metadata": {
    "collapsed": true
   },
   "source": [
    "6、解微分方程"
   ]
  },
  {
   "cell_type": "code",
   "execution_count": null,
   "metadata": {
    "collapsed": true
   },
   "outputs": [],
   "source": [
    "#一次方程积分求解\n",
    "from scipy.integrate import odeint\n",
    "t = np.linspace(0, 2*pi, 100)\n",
    "result = odeint(dy_dt, 0, t)"
   ]
  },
  {
   "cell_type": "markdown",
   "metadata": {},
   "source": [
    "7、线性代数"
   ]
  },
  {
   "cell_type": "code",
   "execution_count": 2,
   "metadata": {
    "collapsed": true
   },
   "outputs": [],
   "source": [
    "#numpy 和 scipy 中，负责进行线性代数部分计算的模块叫做 linalg\n",
    "import numpy as np\n",
    "import numpy.linalg\n",
    "import scipy as sp\n",
    "import scipy.linalg\n",
    "import matplotlib.pyplot as plt\n",
    "%matplotlib inline\n",
    "#在使用时，我们一般使用 scipy.linalg 而不是 numpy.linalg"
   ]
  },
  {
   "cell_type": "code",
   "execution_count": 3,
   "metadata": {},
   "outputs": [
    {
     "data": {
      "text/plain": [
       "array([[1, 2],\n",
       "       [3, 4]])"
      ]
     },
     "execution_count": 3,
     "metadata": {},
     "output_type": "execute_result"
    }
   ],
   "source": [
    "#矩阵的表示方法主要有两种：numpy.matrix 和 2D numpy.ndarray\n",
    "#一般使用 2 维 numpy.ndarray 对象替代\n",
    "A = np.array([[1,2], [3,4]])\n",
    "A"
   ]
  },
  {
   "cell_type": "code",
   "execution_count": null,
   "metadata": {
    "collapsed": true
   },
   "outputs": [],
   "source": [
    "#linalg.inv 可以求一个可逆矩阵的逆\n",
    "#linalg.solve 求解线性方程组\n",
    "#linalg.det 计算行列式\n",
    "#linalg.norm 可以计算向量或者矩阵的模\n",
    "#linalg.lstsq 求解最小二乘解（要先构造矩阵A）\n",
    "#linalg.eig(A)返回矩阵的特征值与特征向量\n",
    "#linalg.eigvals(A)返回矩阵的特征值"
   ]
  },
  {
   "cell_type": "markdown",
   "metadata": {},
   "source": [
    "8、稀疏矩阵"
   ]
  },
  {
   "cell_type": "code",
   "execution_count": 5,
   "metadata": {},
   "outputs": [
    {
     "data": {
      "text/plain": [
       "<2x3 sparse matrix of type '<class 'numpy.float64'>'\n",
       "\twith 0 stored elements in COOrdinate format>"
      ]
     },
     "execution_count": 5,
     "metadata": {},
     "output_type": "execute_result"
    }
   ],
   "source": [
    "#稀疏矩阵主要使用 位置 + 值 的方法来存储矩阵的非零元素\n",
    "from scipy.sparse import *\n",
    "import numpy as np\n",
    "\n",
    "#创建一个空的稀疏矩阵\n",
    "A=coo_matrix((2,3))\n",
    "A"
   ]
  },
  {
   "cell_type": "code",
   "execution_count": 11,
   "metadata": {},
   "outputs": [
    {
     "name": "stdout",
     "output_type": "stream",
     "text": [
      "  (0, 0)\t4\n",
      "  (3, 3)\t5\n",
      "  (1, 1)\t7\n",
      "  (0, 2)\t9\n"
     ]
    }
   ],
   "source": [
    "#传入一个 (data, (row, col)) 的元组来构建稀疏矩阵\n",
    "I = np.array([0,3,1,0])\n",
    "J = np.array([0,3,1,2])\n",
    "V = np.array([4,5,7,9])\n",
    "M= coo_matrix((V,(I,J)),shape=(4,4))\n",
    "print(M)"
   ]
  },
  {
   "cell_type": "code",
   "execution_count": 9,
   "metadata": {},
   "outputs": [
    {
     "name": "stdout",
     "output_type": "stream",
     "text": [
      "<class 'scipy.sparse.coo.coo_matrix'>\n"
     ]
    },
    {
     "data": {
      "text/plain": [
       "scipy.sparse.csr.csr_matrix"
      ]
     },
     "execution_count": 9,
     "metadata": {},
     "output_type": "execute_result"
    }
   ],
   "source": [
    "#不同格式的稀疏矩阵可以相互转化\n",
    "print(type(A))\n",
    "B = A.tocsr()\n",
    "type(B)"
   ]
  },
  {
   "cell_type": "code",
   "execution_count": 10,
   "metadata": {},
   "outputs": [
    {
     "data": {
      "text/plain": [
       "matrix([[ 0.,  0.,  0.],\n",
       "        [ 0.,  0.,  0.]])"
      ]
     },
     "execution_count": 10,
     "metadata": {},
     "output_type": "execute_result"
    }
   ],
   "source": [
    "#可以转化为普通矩阵\n",
    "C = A.todense()\n",
    "C"
   ]
  },
  {
   "cell_type": "code",
   "execution_count": 14,
   "metadata": {},
   "outputs": [
    {
     "name": "stdout",
     "output_type": "stream",
     "text": [
      "  (0, 0)\t1\n",
      "  (0, 2)\t1\n",
      "  (1, 1)\t1\n",
      "  (3, 3)\t1\n",
      "  (1, 1)\t1\n",
      "  (0, 0)\t1\n",
      "  (0, 0)\t1\n"
     ]
    }
   ],
   "source": [
    "#COO 格式的稀疏矩阵在构建的时候只是简单的将坐标和值加到后面，对于重复的坐标不进行处理\n",
    "I = np.array([0,0,1,3,1,0,0])\n",
    "J = np.array([0,2,1,3,1,0,0])\n",
    "V = np.array([1,1,1,1,1,1,1])\n",
    "B = coo_matrix((V,(I,J)),shape=(4,4))\n",
    "print(B)"
   ]
  },
  {
   "cell_type": "code",
   "execution_count": 16,
   "metadata": {},
   "outputs": [
    {
     "name": "stdout",
     "output_type": "stream",
     "text": [
      "  (0, 0)\t3\n",
      "  (1, 1)\t2\n",
      "  (0, 2)\t1\n",
      "  (3, 3)\t1\n"
     ]
    }
   ],
   "source": [
    "#转换成 CSR 格式会自动将相同坐标的值合并\n",
    "C = B.tocsr()\n",
    "print(B)"
   ]
  },
  {
   "cell_type": "code",
   "execution_count": null,
   "metadata": {
    "collapsed": true
   },
   "outputs": [],
   "source": [
    "#稀疏矩阵求解方程组\n",
    "\n",
    "#转化为 CSR 之后，用 spsolve 求解\n",
    "x_ = solve(A.toarray(), b)\n",
    "#或者转化成正常数组之后求解\n",
    "x_ = solve(A.toarray(), b)"
   ]
  },
  {
   "cell_type": "code",
   "execution_count": null,
   "metadata": {
    "collapsed": true
   },
   "outputs": [],
   "source": [
    "#sparse.find 函数\n",
    "#返回一个三元组，表示稀疏矩阵中非零元素的 (row, col, value)：\n",
    "from scipy import sparse\n",
    "row, col, val = sparse.find(C)"
   ]
  },
  {
   "cell_type": "code",
   "execution_count": null,
   "metadata": {
    "collapsed": true
   },
   "outputs": [],
   "source": [
    "#稀疏矩阵的线性代数\n",
    "import scipy.sparse.linalg\n",
    "\n",
    "scipy.sparse.linalg.inv\n",
    "稀疏矩阵求逆\n",
    "scipy.sparse.linalg.expm\n",
    "求稀疏矩阵的指数函数\n",
    "矩阵范数\n",
    "scipy.sparse.linalg.norm\n",
    "稀疏矩阵求范数"
   ]
  }
 ],
 "metadata": {
  "kernelspec": {
   "display_name": "Python 3",
   "language": "python",
   "name": "python3"
  },
  "language_info": {
   "codemirror_mode": {
    "name": "ipython",
    "version": 3
   },
   "file_extension": ".py",
   "mimetype": "text/x-python",
   "name": "python",
   "nbconvert_exporter": "python",
   "pygments_lexer": "ipython3",
   "version": "3.6.2"
  }
 },
 "nbformat": 4,
 "nbformat_minor": 2
}
