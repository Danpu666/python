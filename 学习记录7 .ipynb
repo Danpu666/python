{
 "cells": [
  {
   "cell_type": "markdown",
   "metadata": {
    "collapsed": true
   },
   "source": [
    "numpy"
   ]
  },
  {
   "cell_type": "code",
   "execution_count": 2,
   "metadata": {},
   "outputs": [
    {
     "name": "stdout",
     "output_type": "stream",
     "text": [
      "[[1 2 3]\n",
      " [2 3 4]]\n",
      "2\n",
      "(2, 3)\n",
      "6\n"
     ]
    }
   ],
   "source": [
    "#numpy基本属性\n",
    "import numpy as np\n",
    "#列表转化为矩阵\n",
    "array = np.array([[1,2,3],[2,3,4]])  \n",
    "print(array)\n",
    "print(array.ndim)\n",
    "print(array.shape)\n",
    "print(array.size)"
   ]
  },
  {
   "cell_type": "code",
   "execution_count": 7,
   "metadata": {},
   "outputs": [
    {
     "name": "stdout",
     "output_type": "stream",
     "text": [
      "[1 2 3]\n",
      "[[ 0  1  2  3]\n",
      " [ 4  5  6  7]\n",
      " [ 8  9 10 11]]\n",
      "[[  0.           1.11111111   2.22222222   3.33333333   4.44444444]\n",
      " [  5.55555556   6.66666667   7.77777778   8.88888889  10.        ]]\n",
      "[ 1.  2.  3.]\n",
      "[[ 0.  0.  0.  0.]\n",
      " [ 0.  0.  0.  0.]\n",
      " [ 0.  0.  0.  0.]]\n",
      "[[ 1.  1.]\n",
      " [ 1.  1.]]\n",
      "[[  2.12199579e-314   6.36598737e-314   1.06099790e-313]\n",
      " [  1.48539705e-313   1.90979621e-313   2.33419537e-313]]\n"
     ]
    }
   ],
   "source": [
    "#array的创建\n",
    "array=np.array([1,2,3])\n",
    "print(array)\n",
    "array=np.arange(12).reshape((3,4))\n",
    "print(array)\n",
    "array=np.linspace(0,10,10).reshape((2,5))\n",
    "print(array)\n",
    "#指定数据类型\n",
    "array=np.array([1,2,3],dtype=np.float)\n",
    "print(array)\n",
    "#创建特殊的矩阵\n",
    "a=np.zeros((3,4))\n",
    "print(a)\n",
    "b=np.ones((2,2))\n",
    "print(b)\n",
    "c=np.empty((2,3))\n",
    "print(c)"
   ]
  },
  {
   "cell_type": "code",
   "execution_count": 33,
   "metadata": {},
   "outputs": [
    {
     "name": "stdout",
     "output_type": "stream",
     "text": [
      "[[4 7]\n",
      " [4 6]]\n",
      "[[4 7]\n",
      " [4 6]]\n"
     ]
    }
   ],
   "source": [
    "#numpy的基础运算\n",
    "a=np.array([[1,2],[0,2]])\n",
    "b=np.arange(4).reshape(2,2)\n",
    "#矩阵的乘法\n",
    "c=np.dot(a,b)\n",
    "print(c)\n",
    "d=a.dot(b)\n",
    "print(d)"
   ]
  },
  {
   "cell_type": "code",
   "execution_count": 34,
   "metadata": {},
   "outputs": [
    {
     "name": "stdout",
     "output_type": "stream",
     "text": [
      "2\n",
      "[2 2]\n",
      "2\n",
      "1\n",
      "1.25\n",
      "1.25\n",
      "1.25\n"
     ]
    }
   ],
   "source": [
    "#寻找最大值、最小值\n",
    "#寻找全局的最值\n",
    "print(np.max(a))\n",
    "#寻找每行每列的\n",
    "print(np.max(a,axis=1))\n",
    "#numpy最值的索引\n",
    "print(np.argmin(a))    \n",
    "print(np.argmax(a))   \n",
    "#numpy的均值\n",
    "print(np.mean(a))       \n",
    "print(np.average(a))\n",
    "print(a.mean())"
   ]
  },
  {
   "cell_type": "code",
   "execution_count": 36,
   "metadata": {},
   "outputs": [
    {
     "name": "stdout",
     "output_type": "stream",
     "text": [
      "[1 3 3 5]\n",
      "[[1]\n",
      " [2]]\n",
      "(array([0, 0, 1], dtype=int64), array([0, 1, 1], dtype=int64))\n",
      "[[1 2]\n",
      " [0 2]]\n",
      "[[1 0]\n",
      " [2 2]]\n",
      "[[1 0]\n",
      " [2 2]]\n",
      "[[1 1 1]]\n",
      "[[1]\n",
      " [1]\n",
      " [1]]\n",
      "[[1 1]\n",
      " [0 1]]\n"
     ]
    }
   ],
   "source": [
    "#numpy的累加、累减\n",
    "print(np.cumsum(a))\n",
    "print(np.diff(a))\n",
    "#numpy判断非零\n",
    "print(np.nonzero(a))\n",
    "#矩阵的排序 针对每行\n",
    "print(np.sort(a))\n",
    "#矩阵的转置\n",
    "print(np.transpose(a))\n",
    "print(a.T)\n",
    "########针对特殊矩阵的转置\n",
    "A = np.array([1,1,1])\n",
    "print(A[np.newaxis,:])\n",
    "print(A[:,np.newaxis])\n",
    "#clip\n",
    "print(np.clip(a,0,1))"
   ]
  },
  {
   "cell_type": "code",
   "execution_count": 28,
   "metadata": {},
   "outputs": [
    {
     "name": "stdout",
     "output_type": "stream",
     "text": [
      "[[ 0  1  2  3]\n",
      " [ 4  5  6  7]\n",
      " [ 8  9 10 11]]\n",
      "[5 6]\n",
      "[ 0  1  2  3  4  5  6  7  8  9 10 11]\n",
      "0\n",
      "1\n",
      "2\n",
      "3\n",
      "4\n",
      "5\n",
      "6\n",
      "7\n",
      "8\n",
      "9\n",
      "10\n",
      "11\n"
     ]
    }
   ],
   "source": [
    "#numpy的索引\n",
    "a=np.arange(12).reshape(3,4)\n",
    "print(a)\n",
    "print(a[1,1:3])\n",
    "print(a.flatten())   \n",
    "for item in a.flat:\n",
    "    print(item)"
   ]
  },
  {
   "cell_type": "code",
   "execution_count": 40,
   "metadata": {},
   "outputs": [
    {
     "name": "stdout",
     "output_type": "stream",
     "text": [
      "[[1 1 1]\n",
      " [2 2 2]]\n",
      "[1 1 1 2 2 2]\n",
      "[[1 2 2 1]\n",
      " [1 2 2 1]\n",
      " [1 2 2 1]]\n"
     ]
    }
   ],
   "source": [
    "#numpy的合并\n",
    "#上下合并\n",
    "A = np.array([1,1,1])\n",
    "B = np.array([2,2,2])      \n",
    "print(np.vstack((A,B)))  \n",
    "#左右合并\n",
    "D = np.hstack((A,B))\n",
    "print(D)\n",
    "#合并多个\n",
    "A = np.array([1,1,1])[:,np.newaxis]\n",
    "B = np.array([2,2,2])[:,np.newaxis]\n",
    "D = np.concatenate((A,B,B,A),axis=1)\n",
    "print(D)"
   ]
  },
  {
   "cell_type": "code",
   "execution_count": 42,
   "metadata": {},
   "outputs": [
    {
     "name": "stdout",
     "output_type": "stream",
     "text": [
      "[array([[0, 1],\n",
      "       [4, 5],\n",
      "       [8, 9]]), array([[ 2,  3],\n",
      "       [ 6,  7],\n",
      "       [10, 11]])]\n",
      "[array([[0, 1, 2, 3]]), array([[4, 5, 6, 7]]), array([[ 8,  9, 10, 11]])]\n",
      "[array([[0, 1],\n",
      "       [4, 5],\n",
      "       [8, 9]]), array([[ 2],\n",
      "       [ 6],\n",
      "       [10]]), array([[ 3],\n",
      "       [ 7],\n",
      "       [11]])]\n"
     ]
    }
   ],
   "source": [
    "#numpy的分割\n",
    "A = np.arange(12).reshape((3, 4))\n",
    "#纵向分割\n",
    "print(np.split(A, 2, axis=1))\n",
    "#横向分割\n",
    "print(np.split(A, 3, axis=0))\n",
    "#错误分割\n",
    "#print(np.split(A, 3, axis=1))\n",
    "print(np.array_split(A, 3, axis=1))"
   ]
  },
  {
   "cell_type": "code",
   "execution_count": 44,
   "metadata": {},
   "outputs": [
    {
     "name": "stdout",
     "output_type": "stream",
     "text": [
      "[0 1 2 3]\n",
      "[0 1 2 3]\n",
      "[11  1  2  3]\n",
      "[11  1  2  3]\n",
      "[11  1  2  3]\n",
      "[11  1  2  3]\n",
      "[11  1  2 44]\n",
      "[11  1  2  3]\n"
     ]
    }
   ],
   "source": [
    "#copy和deep copy\n",
    "#copy\n",
    "a = np.arange(4)\n",
    "b = a\n",
    "print(a)\n",
    "print(b)\n",
    "a[0] = 11\n",
    "print(a)\n",
    "print(b)\n",
    "#deep copy\n",
    "b = a.copy()  \n",
    "print(a)\n",
    "print(b)       \n",
    "a[3] = 44\n",
    "print(a)     \n",
    "print(b)        "
   ]
  }
 ],
 "metadata": {
  "kernelspec": {
   "display_name": "Python 3",
   "language": "python",
   "name": "python3"
  },
  "language_info": {
   "codemirror_mode": {
    "name": "ipython",
    "version": 3
   },
   "file_extension": ".py",
   "mimetype": "text/x-python",
   "name": "python",
   "nbconvert_exporter": "python",
   "pygments_lexer": "ipython3",
   "version": "3.6.2"
  }
 },
 "nbformat": 4,
 "nbformat_minor": 2
}
